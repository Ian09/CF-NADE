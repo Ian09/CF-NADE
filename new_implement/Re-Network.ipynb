{
 "cells": [
  {
   "cell_type": "code",
   "execution_count": 1,
   "metadata": {
    "collapsed": true
   },
   "outputs": [],
   "source": [
    "import tensorflow as tf\n",
    "import numpy as np"
   ]
  },
  {
   "cell_type": "code",
   "execution_count": 42,
   "metadata": {
    "collapsed": true
   },
   "outputs": [],
   "source": [
    "movie_dim = 6 #3706\n",
    "hidden_dim = 2 #500\n",
    "num_classes = 5 #possible_ratings,eg:1,2,3,4,5\n",
    "learning_rate = 0.1\n",
    "num_steps = 500\n",
    "batch_size = 128\n",
    "display_step = 100\n",
    "\n",
    "time_stamp_exp_lambda = 0.1\n",
    "\n",
    "rating_X = tf.placeholder(\"float32\",[None,movie_dim,num_classes])\n",
    "Y = tf.placeholder(\"float32\",[None,num_classes])"
   ]
  },
  {
   "cell_type": "code",
   "execution_count": 3,
   "metadata": {
    "collapsed": true
   },
   "outputs": [],
   "source": [
    "weights = {\n",
    "\n",
    "    'W': tf.Variable(tf.random_normal([movie_dim, num_classes,hidden_dim])),\n",
    "    'Output_W' : tf.Variable(tf.random_normal([hidden_dim,movie_dim,num_classes]))\n",
    "}\n",
    "\n",
    "bias = {\n",
    "    'b_hidden':tf.Variable(tf.random_normal(hidden_dim))\n",
    "}"
   ]
  },
  {
   "cell_type": "code",
   "execution_count": 39,
   "metadata": {
    "collapsed": true
   },
   "outputs": [],
   "source": [
    "def time_stamp_function_exp(dif_time_stamp,time_transform_parameter):\n",
    "    return np.exp(0-abs(dif_time_stamp * time_transform_parameter))"
   ]
  },
  {
   "cell_type": "code",
   "execution_count": 35,
   "metadata": {},
   "outputs": [],
   "source": [
    "def data_transform(X,time_transform_parameter):\n",
    "    get_ratings = X[:,:,0,0]\n",
    "    target_time_stamp = np.sum(X[:,:,1,1], axis = 1)\n",
    "    num_batch = np.size(X,0)\n",
    "    ratings_X = np.zeros((num_batch,movie_dim,num_classes)) #num_classes:0,1,2,3,4 -> ratings:1,2,3,4,5\n",
    "    for iter_num_batch in range(num_batch):\n",
    "        for iter_movie in range(movie_dim):\n",
    "            if get_ratings[iter_num_batch,iter_movie] > 0:\n",
    "                ratings_X[iter_num_batch,iter_movie,int(get_ratings[iter_num_batch,iter_movie] - 1)] = time_stamp_function_exp(X[iter_num_batch,iter_movie,1,0] - target_time_stamp[iter_num_batch],time_transform_parameter)\n",
    "    return ratings_X"
   ]
  },
  {
   "cell_type": "code",
   "execution_count": 4,
   "metadata": {
    "collapsed": true
   },
   "outputs": [],
   "source": [
    "def time_stamp_net(rating_X):\n",
    "    layer1 = tf.sigmoid(tf.add(b_hidden,tf.matmul(rating_X,weights['W']) ))\n",
    "    \n",
    "    \n",
    "    \n",
    "    return output_layer"
   ]
  },
  {
   "cell_type": "code",
   "execution_count": null,
   "metadata": {
    "collapsed": true
   },
   "outputs": [],
   "source": [
    "pre_rating = time_stamp_net(X)\n",
    "# Define loss and optimizer\n",
    "loss_op = tf.reduce_mean(tf.nn.softmax_cross_entropy_with_logits(\n",
    "    logits = pre_rating, labels=Y))\n",
    "optimizer = tf.train.AdamOptimizer(learning_rate=learning_rate)\n",
    "train_op = optimizer.minimize(loss_op)\n",
    "\n",
    "# Evaluate model (with test logits, for dropout to be disabled)\n",
    "correct_pred = tf.equal(tf.argmax(pre_rating, 1), tf.argmax(Y, 1))\n",
    "accuracy = tf.reduce_mean(tf.cast(correct_pred, tf.float32))\n",
    "\n",
    "# Initialize the variables (i.e. assign their default value)\n",
    "init = tf.global_variables_initializer()"
   ]
  },
  {
   "cell_type": "code",
   "execution_count": null,
   "metadata": {
    "collapsed": true
   },
   "outputs": [],
   "source": [
    "temp = np.ones((1,movie_dim,2,2))\n",
    "with tf.Session() as sess:\n",
    "     print(sess.run(time_stamp_net(X), feed_dict={X: temp}))"
   ]
  },
  {
   "cell_type": "code",
   "execution_count": 40,
   "metadata": {},
   "outputs": [],
   "source": [
    "temp = np.ones((1,movie_dim,2,2))\n",
    "\n",
    "out_1,out_2 = data_transform(temp,time_stamp_exp_lambda)\n"
   ]
  },
  {
   "cell_type": "code",
   "execution_count": 41,
   "metadata": {},
   "outputs": [
    {
     "data": {
      "text/plain": [
       "array([[0.60653066, 0.60653066, 0.60653066, 0.60653066, 0.60653066,\n",
       "        0.60653066]])"
      ]
     },
     "execution_count": 41,
     "metadata": {},
     "output_type": "execute_result"
    }
   ],
   "source": [
    "out_2"
   ]
  },
  {
   "cell_type": "code",
   "execution_count": null,
   "metadata": {
    "collapsed": true
   },
   "outputs": [],
   "source": []
  }
 ],
 "metadata": {
  "kernelspec": {
   "display_name": "Python 3",
   "language": "python",
   "name": "python3"
  },
  "language_info": {
   "codemirror_mode": {
    "name": "ipython",
    "version": 3
   },
   "file_extension": ".py",
   "mimetype": "text/x-python",
   "name": "python",
   "nbconvert_exporter": "python",
   "pygments_lexer": "ipython3",
   "version": "3.6.3"
  }
 },
 "nbformat": 4,
 "nbformat_minor": 2
}
